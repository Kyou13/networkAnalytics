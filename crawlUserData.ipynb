{
 "cells": [
  {
   "cell_type": "code",
   "execution_count": 1,
   "metadata": {},
   "outputs": [],
   "source": [
    "import json\n",
    "import time\n",
    "import random\n",
    "\n",
    "import numpy as np\n",
    "from requests_oauthlib import OAuth1Session"
   ]
  },
  {
   "cell_type": "code",
   "execution_count": 55,
   "metadata": {},
   "outputs": [],
   "source": [
    "# キー取得\n",
    "with open('key.json') as f:\n",
    "        keys = json.load(f)\n",
    "# 環境変数から承認情報を取得\n",
    "CONSUMER_KEY    = keys['CONSUMER_KEY']\n",
    "CONSUMER_SECRET = keys['CONSUMER_SECRET']\n",
    "ACCESS_TOKEN    = keys['ACCESS_TOKEN']\n",
    "ACCESS_SECRET   = keys['ACCESS_SECRET']\n",
    "api = OAuth1Session(CONSUMER_KEY, CONSUMER_SECRET, ACCESS_TOKEN, ACCESS_SECRET)"
   ]
  },
  {
   "cell_type": "code",
   "execution_count": 61,
   "metadata": {},
   "outputs": [],
   "source": [
    "url = 'https://api.twitter.com/1.1/followers/ids.json'\n",
    "params = {'screen_name': 'henjinmajime'}"
   ]
  },
  {
   "cell_type": "code",
   "execution_count": 62,
   "metadata": {},
   "outputs": [],
   "source": [
    "req = api.get(url, params=params)"
   ]
  },
  {
   "cell_type": "code",
   "execution_count": 63,
   "metadata": {},
   "outputs": [],
   "source": [
    "if req.status_code == 200:\n",
    "    temp1 = json.loads(req.text)"
   ]
  },
  {
   "cell_type": "code",
   "execution_count": 64,
   "metadata": {},
   "outputs": [
    {
     "data": {
      "text/plain": [
       "5000"
      ]
     },
     "execution_count": 64,
     "metadata": {},
     "output_type": "execute_result"
    }
   ],
   "source": [
    "len(temp1['ids'])"
   ]
  },
  {
   "cell_type": "code",
   "execution_count": 37,
   "metadata": {},
   "outputs": [],
   "source": [
    "if req.status_code == 200:\n",
    "    temp2 = json.loads(req.text)"
   ]
  },
  {
   "cell_type": "code",
   "execution_count": 65,
   "metadata": {},
   "outputs": [],
   "source": [
    "ids = []\n",
    "cursor = -1\n",
    "\n",
    "url = 'https://api.twitter.com/1.1/followers/ids.json'\n",
    "params = {'screen_name': 'henjinmajime'}\n",
    "\n",
    "while cursor != 0:\n",
    "    params['cursor'] = str(cursor)\n",
    "    req = api.get(url, params=params)\n",
    "    temp = json.loads(req.text)\n",
    "    \n",
    "    ids.extend(temp['ids'])\n",
    "    cursor = temp['next_cursor']\n",
    "    time.sleep(20*random.uniform(0.5,1.5))"
   ]
  },
  {
   "cell_type": "code",
   "execution_count": 66,
   "metadata": {},
   "outputs": [
    {
     "data": {
      "text/plain": [
       "23374"
      ]
     },
     "execution_count": 66,
     "metadata": {},
     "output_type": "execute_result"
    }
   ],
   "source": [
    "len(ids)"
   ]
  },
  {
   "cell_type": "code",
   "execution_count": 67,
   "metadata": {},
   "outputs": [],
   "source": [
    "np.save('follower_ids.npy', ids)"
   ]
  },
  {
   "cell_type": "code",
   "execution_count": 92,
   "metadata": {},
   "outputs": [],
   "source": [
    "test = [str(i) for i in ids[:100]]\n",
    "id_list = ','.join(test)"
   ]
  },
  {
   "cell_type": "code",
   "execution_count": 93,
   "metadata": {},
   "outputs": [
    {
     "name": "stdout",
     "output_type": "stream",
     "text": [
      "<Response [200]>\n"
     ]
    }
   ],
   "source": [
    "lockup = 'https://api.twitter.com/1.1/users/lookup.json'\n",
    "\n",
    "req = api.get(lockup, params={'user_id': id_list})\n",
    "if req.status_code == 200:\n",
    "    print (req)"
   ]
  },
  {
   "cell_type": "code",
   "execution_count": 114,
   "metadata": {},
   "outputs": [],
   "source": [
    "req = api.get(lockup, params={'user_id': id_list})\n",
    "req_text = json.loads(req.text)"
   ]
  },
  {
   "cell_type": "code",
   "execution_count": 119,
   "metadata": {},
   "outputs": [
    {
     "data": {
      "text/plain": [
       "[[877529449956114433, 'fu_rikako', 'Da-iCE🎲/AAA💙❤️'],\n",
       " [3150702414,\n",
       "  'aaa_haru0128',\n",
       "  'HONAN3A3￤ぶるうぃん🐳▷ フルート＆CG⚑*ﾟトプ画→ ￤AAA🌈￤與真司郎💙￤米津玄師￤欅坂 スヌーピー🐶￤プーさん🐻🍯コナン🎀👓'],\n",
       " [989307233442848773, '3355KEroro', ''],\n",
       " [894161208793645058, 'a_tj_0912', '16さい ポキさん💓'],\n",
       " [3243945883, 'oooo__mi', ''],\n",
       " [978958323847380993,\n",
       "  'ryoka_1702',\n",
       "  'stanstead college🇨🇦☞St.Andrew’s college🇳🇿☞Chukyo uni 心理🎌'],\n",
       " [983304081501339648, 'J6NmX74IQiO3vm8', ''],\n",
       " [889744781319970816, 'bs_bt', '八敬 3年'],\n",
       " [942525112342822912,\n",
       "  'yuu74285725',\n",
       "  '南中 / 女バレ / littleGreemonster / BLACKPINK/emma /YouTube / KEMIO'],\n",
       " [4850560628, '1990ABTwin', 'ゆうこす❥❥❥❥YouTube好き'],\n",
       " [2251501910, 'putinsmile039', ''],\n",
       " [712633722491654144,\n",
       "  'man0kr9',\n",
       "  'football🇯🇵ksu/reds/jfc/fussball/jonan/reds←🆕‼️'],\n",
       " [989177931598450689, 'sCahcTXqIXzx9g0', ''],\n",
       " [987977695093866496, 'hati23901472', '時尚 旅遊 企業 國際 國際音樂'],\n",
       " [730706157812224000, 'loveason3', '喜欢自由  喜欢安静  喜欢交朋友'],\n",
       " [989164010464460800, '99ta_____ri125', '２年後には東京住みたい #ぎーにょず'],\n",
       " [3089727748, 'leeisjustweird', \"★  I'm a space cactus!  ★\"],\n",
       " [745763209290801154, 'ShaoChiaChen', '안녕하세요 , 저는 포천 점에서 대만 ARMY , 오빠 사랑 해요'],\n",
       " [874623845939859456,\n",
       "  'hanna0325kj8',\n",
       "  '塩浜▷▷農芸FJK🌼*･\\n                                      ｜KJ8｜EG｜大倉忠義｜石井杏奈｜坂口健太郎｜竹内涼真｜山崎賢人｜なのかじ｜'],\n",
       " [989152671624904704, '9LtGUhIudXn9r7r', ''],\n",
       " [973068878648520705,\n",
       "  'shien64393264',\n",
       "  'JK1✲16\\U0001f91f菅小→菅中→MJ\\U0001f91f菅中生とか、MJ生とか、気軽にフォローウェルカムです！(無言フォローすみません！) 多趣味人間。主にめせもあ。と文豪ストレイドッグスとGARNiDELiA。知ってるよ！って人いたらフォローお願いします！…わかる人はわかると思うけど、腐ってる女子ですから。笑'],\n",
       " [3238528032,\n",
       "  'MARi_kun_',\n",
       "  '入学早々心が折れそうなのしろの1G￤空手道部ﾏﾈ￤🐼￤にいかわ大好きな豚/りんごの遅刻マン/JK大好きな趣味歌おじさん/イケメンなおばけの人'],\n",
       " [985707696320987136,\n",
       "  'REN84513682',\n",
       "  'LJC  YouTuber大好きです📷💕  ウェイターズ🕑                                                            はやしん/SN🌴地方民やからイベント参加できない😭                            たまに歌詞動画をあげます✨'],\n",
       " [824213228947243008,\n",
       "  'lovezonemari',\n",
       "  'ツイート多めです。神谷浩史。小野大輔。DGSｻｲｺｰかよ..。あんスタ。カラ松ガール。欅坂46。ラジオすき。RBCiラジオ。MUSIC SHOWER plus+。腐女子おいで！声優。ジャニーズ。気軽にフォローお願いします✨'],\n",
       " [866248251153891328, 'a26ttt', '卍 美月まじリスペクト 卍'],\n",
       " [886247238669697024, 'akaka__rinrin', 'キャス、linelive、リプ用アカウント'],\n",
       " [989137184941793281, 'nnt_luz', ''],\n",
       " [841211005992501248, 'blue27285871', ''],\n",
       " [878455284523450368, 'Mak12i12', '☺️🐈☺️🐈三度の飯よりyoutube'],\n",
       " [987965108692271104, 'gXYX29mh3fCKq9k', ''],\n",
       " [866988831462969345,\n",
       "  'natsumi0824kon1',\n",
       "  'トプ画右、中１テニス部、BTS💕ＡＡＡ💕乃木坂💕\\nミクチャもやってます！あとあんスタ💕朔間凛月\\n推し💕アニメ💕文豪ストレイドッグス💕東京喰種💕\\nハイキュー💕'],\n",
       " [709739966079705088, 'puuuu_luv0810', '❤ すきぴと難波 ❤'],\n",
       " [958375860897169408, '7InIEG4IqxACsoc', '中学１年 韓国🇰🇷 絵文字がたくさん💞'],\n",
       " [979570668470587392, 'aosiasus', 'ai'],\n",
       " [969897078418583552,\n",
       "  'ag__rrr',\n",
       "  '吉浦✩中３ //  14歳 // イケメン // trumpet // ARMY // 最近結構オープンにしてます🌈  東京喰種すきです。'],\n",
       " [924247568074158080, 'ckC8QpKdzgV7MRK', 'フォローお願いします GENEファンと繋がりたいです😋 亜嵐くん😍'],\n",
       " [829296378874560514,\n",
       "  'pamu_0728',\n",
       "  'とりまYouTubeだいすき🙋                                           3/28スカイピースハル☆ツアin名古屋🐴🐰✨    たのしかった！！！'],\n",
       " [827467151472668673,\n",
       "  'mikan_camila',\n",
       "  '川内中/中2/吹奏楽部/Tuba/ラブライブ(ことりちゃん、にこちゃん推し)、{桜内梨子ちゃんと同じ誕生日♪}/フィッシャーズ/まふまふ/そらる/洋楽大好き/CamilaCabello/HoneyWorks♪/気軽にフォローしてね♪フォローしてくれた人100%フォロバします♪'],\n",
       " [895661282195456002, 'hobby_likes_sf', '邦ロックに出会って1年 まだまだ勉強'],\n",
       " [846602600564776960, 'chi__o00', 'Atsuta201 / よしくん'],\n",
       " [869172769518256128,\n",
       "  'shi_ma_desu',\n",
       "  '☞バカ代表☜ 低音一途💜 WANIMA🎸#WANIMA好きと繋がりたい\\n♥Thank you for Follow♥'],\n",
       " [985330838140170241,\n",
       "  'me41345079',\n",
       "  '星川遥香ちゃんが可愛すぎて大好きすぎ て作ったアカウントです💞 本当に可愛いすぎて憧れる😭  市川美織 好き LIVE好き欅好き'],\n",
       " [980863600888655873,\n",
       "  'lk__ibis',\n",
       "  '身長170超えてるただの高身長です。\\n23HRの出現率めっちゃ低い人←\\n趣味？そんなものない(嘘)\\n機械系いじるの意外と好きだったりする'],\n",
       " [989094785179963392, 'ryoka6609', '春から高校生！青春します！'],\n",
       " [938327954261602305,\n",
       "  'IlMsKc4pRXgRkwx',\n",
       "  'すずしょうと/パオパオチャンネル/いんちき姉妹/すしりく/スカイピース/てるとくん など好きです！よろしくお願いします！'],\n",
       " [820302410794971140, 'Usagi_xoxo69', ''],\n",
       " [989104013378338818,\n",
       "  'Po127_Ka322',\n",
       "  'YouTuberさんのことはまだまだ知らない事だらけですが仲良くしてください😆👏 無言フォローすいません 話し掛けてほしいです😁 ポッキー♡ポキみや♡カリブラ♡水溜りボンド♡ヘンジンマジメ♡おるたなチャンネル'],\n",
       " [708196743393849344,\n",
       "  'WwZLHjWkfETaJRg',\n",
       "  'JK\\U0001f940🃏🕸/伊野尾慧❤︎/誰でもフォローどーぞ🕊 /気まぐれツイート'],\n",
       " [978241078062080000, '__angel__149cm', 'ほりえりくくんとさんこいちがすき⁽⁽ଘ( ˊᵕˋ )ଓ⁾⁾'],\n",
       " [978613595532480512, 'UcEKclz5GxT2vIe', '基本見るだけです'],\n",
       " [985505426774024192,\n",
       "  'Dy82qGA4e5lcZDe',\n",
       "  '韓国好き 😚😚  BIGBANG . 防弾少年団 . INFINITE . わなわん . JBJ 色々好き 👷'],\n",
       " [974148795385618432, '__paooooon', 'youtubeが大好き！'],\n",
       " [607856605, 'yoshiki043', ''],\n",
       " [715112304992342016,\n",
       "  'Sirahama_Hina',\n",
       "  'Happiness，GENERATIONS､THE RAMPAGEが大好きな中3です！陸上部です！フォローお願いします!!!'],\n",
       " [750220091501850624, 'wimper_1450', ''],\n",
       " [697558897570123777, 'yokoaya_0513', '藤島／鶴岡中央／女バレ／演劇／カラオケ／映画'],\n",
       " [3152696893, 'sekaowa_v6', '実況者様をフォローするだけの垢。 フォロバ返しません。'],\n",
       " [989074456445321217,\n",
       "  'ev7v1R78zGBHQ4D',\n",
       "  '始めたばかりです。 無言フォロー失礼します！ スプラトゥーン2やってる方と繋がりたいです！  フレコ8300 7715 6033'],\n",
       " [3214017460,\n",
       "  'Sakura10141594',\n",
       "  '新社会人(22)。。趣味垢。。フルートlove。。単純バカ女。。病的に愛して。。赤い薔薇→あなたを愛しています。。弱い人間でなにが悪い。。毎日泣いて強くなる。。'],\n",
       " [981867178516295681, 'to_____sun', '東海オンエア と えむれな と さんこいち ☺︎'],\n",
       " [797457547305156612,\n",
       "  'natsumi_abe622',\n",
       "  '14 years old / dance / photo / https://t.co/RRohWWJij7'],\n",
       " [989064149211713537, 'm_u_c_h_a_101', 'LJC /新垢ですフォローおねがいします'],\n",
       " [981113422615011328,\n",
       "  'hk______15',\n",
       "  '観音（Euph）TWICE，EXID\\U0001f5a4 ・満島ひかり ・志尊淳'],\n",
       " [908983332502769664,\n",
       "  'mafu_110',\n",
       "  '【土佐塾 中3 バスケ部】YouTubeを見ることが好きです🐢 ❤歌い手@uni_mafumafu 💗踊り手 ❤HoneyWorks 💗@Pocky_Sweets ❤@saaya3831 💗アバンティーズ ❤Disney 💗ジブリ ❤少女漫画 💗米津玄師 ❤ごちうさ'],\n",
       " [750395661447815168, 'quick10silver', 'Tokyo.Shinagawa ⇔ 雪山 UVER ミスチル スノボ🏂'],\n",
       " [972801791401144320,\n",
       "  'MAKUN20051121',\n",
       "  'ヨロシクです！(o^-^)b✌️好き😍→@alon2525お気に入り→@zizio413 のサブ垢→@take_cute25 TWICE好き！❤特に【モモ🍑】が好き！😍ニックネーム→【マーくん】/血液型→【A型】/好きな事→ゲームする事/歌う事.........です！（笑）よろしくお願いします！m(_ _)m'],\n",
       " [852460968034525185, 'lI31XJ5TLVg3sN3', 'JD休止'],\n",
       " [1340873288,\n",
       "  'maanyanko3416',\n",
       "  'ボイメン溺愛中♡\\n拓海、勇翔、俊さん、勝推し❤\\nBMKは米谷、佐藤匠、中原推し♡\\n祭nine.は清水、寺坂推し💕\\n\\n割と箱推し♡！\\nイベントあれば行きます！\\n9/30 10/01参戦済\\n\\n『夢は諦めなければ必ず叶う！！』\\n\\nお笑い芸人なら\\nチュートリアル、アンジャッシュ等すき\\n※現在恋愛カウンセラーとして活躍中♡♡'],\n",
       " [801698792139464704,\n",
       "  'Ririka_Pon_321',\n",
       "  '🐶ANGEL💕好きでかまちょな生物です😆よろしく👍 /韓国大好き♥KYUSYU1→2♥photoCLUB/古着＆古着屋love/元 赤ブロ衣装係 #ペヤング つぶやき(@riruriru_0240) サンニブ垢(@LOVE321_RirikaL)'],\n",
       " [981853194673315841, '8t97D9f5gDbPS60', '守南→八普   1-6 ♡   バド部☺︎'],\n",
       " [985449537367031808, 'tOngdAVqd0mF0QU', ''],\n",
       " [2675383586, 'm11312rk', '稲津小→麗澤瑞浪中学→麗澤瑞浪高校 6-2→中部大学人文学部'],\n",
       " [986929598842597376, 'cJ6m00uebE5Z5oc', 'よろしくお願いします'],\n",
       " [987917670589722625,\n",
       "  'tomoka42877',\n",
       "  'eishin3/神木隆之介/嵐/水溜りボンド follow me✨新しくしました！'],\n",
       " [2497973202, 'hiyoko8253', '＊元出商＊→松江 製菓→洋菓子屋さん＊陸上すき♡'],\n",
       " [988966810807496704, 'usa_honda', ''],\n",
       " [2912486892,\n",
       "  'BA96THPooh',\n",
       "  '神→TVXQ/爆発→防弾少年団(BTS)/安定→GOT7/K-POP/ディズニー/ プーさん(⑉°з°)-♡ 2017.08.23→Happy wedding💍🐻夫婦♡'],\n",
       " [807170286420250624, 'hello_yamame', 'ぴよ。さかな、おおや、ようか、ぴらかた！！！どどど！求))友達の作り方'],\n",
       " [926483961760456705, 'sjtd22', '99￤宮古島￤平良☞工業卒￤無言フォローすみません😭🙇🏻\\u200d♀️'],\n",
       " [775306670561910784,\n",
       "  'honeylemon_sax',\n",
       "  '今日､好き･恋ステ･オオカミくん                 ほんまに大好き💕                                         今日､好き⏩けんくん･にしむー･まる        恋ステ     ⏩かずとくん･しょーえいくん   オオカミくん⏩なすくん･けんけん･そらくん'],\n",
       " [3136762758, 'SkyHigh0_0', '放置していたけれど、大学専用垢にシフトチェンジ。'],\n",
       " [987308599926898688, '0H6KXsAwIgqLf6O', 'ガオラー・ウェイターズ・ぽんふぁみ'],\n",
       " [831505976545071104,\n",
       "  'kotona_0509',\n",
       "  '玉穂中→甲府商業 1526 → 2425 セクガル＆とびっこ 涼介担 風磨担 YouTube  @ruykun__←るいくんみたいな美白が欲しい'],\n",
       " [3321163338,\n",
       "  'yuto0206rx91',\n",
       "  '元亀中、yuto高、函短保育科B組、15キロ太っただから痩たいでも痩せられない系男子‼️バスケは楽しいね^_^でも今はバレーの方が好きかも……いももち❤️ずっと一緒に❤️5月2日'],\n",
       " [988963682272002048, 'Branch__oO', '14 ／ ♀ ／ ﾍﾝｼﾞﾝﾏｼﾞﾒ (♡) ／'],\n",
       " [805945668153901056, 'kobvm', '映画、ドラマ大好き！'],\n",
       " [2787463992,\n",
       "  'blackcherry9253',\n",
       "  'TBS / 趣味＊プーさん＊歌＊ピアノ＊調理＊お菓子 / chocopick / REST AREA /'],\n",
       " [972108865587224577, 'YFDFnIMUOv50A8W', ''],\n",
       " [908818963022225408, 's12083', '福高→通信制。❁.*･ﾟ@kj_ryoka*･ﾟ❁.*･ﾟ'],\n",
       " [884035700265332736, 'Linor_0205', '18↑/中文/English/ちゆうごくじん/頑張ろう!'],\n",
       " [738313943567867908,\n",
       "  'o_r_shshm___',\n",
       "  'Knm②  orchestra*Cl     SHISHAMO│back number│ 坂口有望｜みやかわくん'],\n",
       " [791071590603563008, 'nam3___y', ''],\n",
       " [988744457062268928, '6KbVgCiV6c551c8', '私は、中2です。ふたば家に、入ってます'],\n",
       " [718260344,\n",
       "  '3Putinkangoku9',\n",
       "  'お気に入りなカメラで、撮って貼る場所\\nカメラにこだわってるとか写真にこだわってる訳じゃなく撮ることが好きな人'],\n",
       " [835851499796226050,\n",
       "  'kiyu0526sasaki',\n",
       "  'せいわ２年3組 合唱部 AAA/Little Green Monster/E-grils'],\n",
       " [880687167558864896, 'svnten1375', 'U F e r 💩 🌹 👓 🌵(🌋\\U0001f996'],\n",
       " [777008318749380609,\n",
       "  'oj_blc',\n",
       "  '久留米→嘉麻市山中卒→久留米三井中央中退 仕事とか頑張る大阪なう                                 あにき大好きよん、ヘッダーあにき'],\n",
       " [2210442860, 'k8_pig16', '自己満垢。'],\n",
       " [829377830781726720, 'jacky_akane3', 'お洋服・くっく'],\n",
       " [918823677872844801, 'Lienonewaka', 'ツリメさん じんたん [Alexandros]']]"
      ]
     },
     "execution_count": 119,
     "metadata": {},
     "output_type": "execute_result"
    }
   ],
   "source": [
    "[[user['id'], user['screen_name'], user['description']] for user in req_text]"
   ]
  },
  {
   "cell_type": "code",
   "execution_count": null,
   "metadata": {},
   "outputs": [],
   "source": []
  },
  {
   "cell_type": "code",
   "execution_count": 2,
   "metadata": {},
   "outputs": [],
   "source": [
    "import MySQLdb"
   ]
  },
  {
   "cell_type": "code",
   "execution_count": 3,
   "metadata": {},
   "outputs": [],
   "source": [
    "conn = MySQLdb.connect(host=\"localhost\",  # your host \n",
    "                     user=\"twitter_scraper\",       # username\n",
    "                     passwd=\"password\",     # password\n",
    "                     db=\"db_twitter\",\n",
    "                    charset='utf8mb4'\n",
    "                    )"
   ]
  },
  {
   "cell_type": "code",
   "execution_count": 4,
   "metadata": {},
   "outputs": [],
   "source": [
    "cursor = conn.cursor()"
   ]
  },
  {
   "cell_type": "code",
   "execution_count": 5,
   "metadata": {},
   "outputs": [
    {
     "ename": "OperationalError",
     "evalue": "(1030, 'Got error 168 from storage engine')",
     "output_type": "error",
     "traceback": [
      "\u001b[0;31m---------------------------------------------------------------------------\u001b[0m",
      "\u001b[0;31mOperationalError\u001b[0m                          Traceback (most recent call last)",
      "\u001b[0;32m<ipython-input-5-ece5e22a0f1f>\u001b[0m in \u001b[0;36m<module>\u001b[0;34m()\u001b[0m\n\u001b[1;32m      9\u001b[0m     )\"\"\"\n\u001b[1;32m     10\u001b[0m \u001b[0;34m\u001b[0m\u001b[0m\n\u001b[0;32m---> 11\u001b[0;31m \u001b[0mcursor\u001b[0m\u001b[0;34m.\u001b[0m\u001b[0mexecute\u001b[0m\u001b[0;34m(\u001b[0m\u001b[0msql\u001b[0m\u001b[0;34m)\u001b[0m\u001b[0;34m\u001b[0m\u001b[0m\n\u001b[0m",
      "\u001b[0;32m~/.pyenv/versions/anaconda3-4.2.0/lib/python3.5/site-packages/MySQLdb/cursors.py\u001b[0m in \u001b[0;36mexecute\u001b[0;34m(self, query, args)\u001b[0m\n\u001b[1;32m    248\u001b[0m         \u001b[0;32mexcept\u001b[0m \u001b[0mException\u001b[0m\u001b[0;34m:\u001b[0m\u001b[0;34m\u001b[0m\u001b[0m\n\u001b[1;32m    249\u001b[0m             \u001b[0mexc\u001b[0m\u001b[0;34m,\u001b[0m \u001b[0mvalue\u001b[0m \u001b[0;34m=\u001b[0m \u001b[0msys\u001b[0m\u001b[0;34m.\u001b[0m\u001b[0mexc_info\u001b[0m\u001b[0;34m(\u001b[0m\u001b[0;34m)\u001b[0m\u001b[0;34m[\u001b[0m\u001b[0;34m:\u001b[0m\u001b[0;36m2\u001b[0m\u001b[0;34m]\u001b[0m\u001b[0;34m\u001b[0m\u001b[0m\n\u001b[0;32m--> 250\u001b[0;31m             \u001b[0mself\u001b[0m\u001b[0;34m.\u001b[0m\u001b[0merrorhandler\u001b[0m\u001b[0;34m(\u001b[0m\u001b[0mself\u001b[0m\u001b[0;34m,\u001b[0m \u001b[0mexc\u001b[0m\u001b[0;34m,\u001b[0m \u001b[0mvalue\u001b[0m\u001b[0;34m)\u001b[0m\u001b[0;34m\u001b[0m\u001b[0m\n\u001b[0m\u001b[1;32m    251\u001b[0m         \u001b[0mself\u001b[0m\u001b[0;34m.\u001b[0m\u001b[0m_executed\u001b[0m \u001b[0;34m=\u001b[0m \u001b[0mquery\u001b[0m\u001b[0;34m\u001b[0m\u001b[0m\n\u001b[1;32m    252\u001b[0m         \u001b[0;32mif\u001b[0m \u001b[0;32mnot\u001b[0m \u001b[0mself\u001b[0m\u001b[0;34m.\u001b[0m\u001b[0m_defer_warnings\u001b[0m\u001b[0;34m:\u001b[0m\u001b[0;34m\u001b[0m\u001b[0m\n",
      "\u001b[0;32m~/.pyenv/versions/anaconda3-4.2.0/lib/python3.5/site-packages/MySQLdb/connections.py\u001b[0m in \u001b[0;36mdefaulterrorhandler\u001b[0;34m(***failed resolving arguments***)\u001b[0m\n\u001b[1;32m     48\u001b[0m     \u001b[0;32mdel\u001b[0m \u001b[0mconnection\u001b[0m\u001b[0;34m\u001b[0m\u001b[0m\n\u001b[1;32m     49\u001b[0m     \u001b[0;32mif\u001b[0m \u001b[0misinstance\u001b[0m\u001b[0;34m(\u001b[0m\u001b[0merrorvalue\u001b[0m\u001b[0;34m,\u001b[0m \u001b[0mBaseException\u001b[0m\u001b[0;34m)\u001b[0m\u001b[0;34m:\u001b[0m\u001b[0;34m\u001b[0m\u001b[0m\n\u001b[0;32m---> 50\u001b[0;31m         \u001b[0;32mraise\u001b[0m \u001b[0merrorvalue\u001b[0m\u001b[0;34m\u001b[0m\u001b[0m\n\u001b[0m\u001b[1;32m     51\u001b[0m     \u001b[0;32mif\u001b[0m \u001b[0merrorclass\u001b[0m \u001b[0;32mis\u001b[0m \u001b[0;32mnot\u001b[0m \u001b[0;32mNone\u001b[0m\u001b[0;34m:\u001b[0m\u001b[0;34m\u001b[0m\u001b[0m\n\u001b[1;32m     52\u001b[0m         \u001b[0;32mraise\u001b[0m \u001b[0merrorclass\u001b[0m\u001b[0;34m(\u001b[0m\u001b[0merrorvalue\u001b[0m\u001b[0;34m)\u001b[0m\u001b[0;34m\u001b[0m\u001b[0m\n",
      "\u001b[0;32m~/.pyenv/versions/anaconda3-4.2.0/lib/python3.5/site-packages/MySQLdb/cursors.py\u001b[0m in \u001b[0;36mexecute\u001b[0;34m(self, query, args)\u001b[0m\n\u001b[1;32m    245\u001b[0m         \u001b[0mres\u001b[0m \u001b[0;34m=\u001b[0m \u001b[0;32mNone\u001b[0m\u001b[0;34m\u001b[0m\u001b[0m\n\u001b[1;32m    246\u001b[0m         \u001b[0;32mtry\u001b[0m\u001b[0;34m:\u001b[0m\u001b[0;34m\u001b[0m\u001b[0m\n\u001b[0;32m--> 247\u001b[0;31m             \u001b[0mres\u001b[0m \u001b[0;34m=\u001b[0m \u001b[0mself\u001b[0m\u001b[0;34m.\u001b[0m\u001b[0m_query\u001b[0m\u001b[0;34m(\u001b[0m\u001b[0mquery\u001b[0m\u001b[0;34m)\u001b[0m\u001b[0;34m\u001b[0m\u001b[0m\n\u001b[0m\u001b[1;32m    248\u001b[0m         \u001b[0;32mexcept\u001b[0m \u001b[0mException\u001b[0m\u001b[0;34m:\u001b[0m\u001b[0;34m\u001b[0m\u001b[0m\n\u001b[1;32m    249\u001b[0m             \u001b[0mexc\u001b[0m\u001b[0;34m,\u001b[0m \u001b[0mvalue\u001b[0m \u001b[0;34m=\u001b[0m \u001b[0msys\u001b[0m\u001b[0;34m.\u001b[0m\u001b[0mexc_info\u001b[0m\u001b[0;34m(\u001b[0m\u001b[0;34m)\u001b[0m\u001b[0;34m[\u001b[0m\u001b[0;34m:\u001b[0m\u001b[0;36m2\u001b[0m\u001b[0;34m]\u001b[0m\u001b[0;34m\u001b[0m\u001b[0m\n",
      "\u001b[0;32m~/.pyenv/versions/anaconda3-4.2.0/lib/python3.5/site-packages/MySQLdb/cursors.py\u001b[0m in \u001b[0;36m_query\u001b[0;34m(self, q)\u001b[0m\n\u001b[1;32m    409\u001b[0m \u001b[0;34m\u001b[0m\u001b[0m\n\u001b[1;32m    410\u001b[0m     \u001b[0;32mdef\u001b[0m \u001b[0m_query\u001b[0m\u001b[0;34m(\u001b[0m\u001b[0mself\u001b[0m\u001b[0;34m,\u001b[0m \u001b[0mq\u001b[0m\u001b[0;34m)\u001b[0m\u001b[0;34m:\u001b[0m\u001b[0;34m\u001b[0m\u001b[0m\n\u001b[0;32m--> 411\u001b[0;31m         \u001b[0mrowcount\u001b[0m \u001b[0;34m=\u001b[0m \u001b[0mself\u001b[0m\u001b[0;34m.\u001b[0m\u001b[0m_do_query\u001b[0m\u001b[0;34m(\u001b[0m\u001b[0mq\u001b[0m\u001b[0;34m)\u001b[0m\u001b[0;34m\u001b[0m\u001b[0m\n\u001b[0m\u001b[1;32m    412\u001b[0m         \u001b[0mself\u001b[0m\u001b[0;34m.\u001b[0m\u001b[0m_post_get_result\u001b[0m\u001b[0;34m(\u001b[0m\u001b[0;34m)\u001b[0m\u001b[0;34m\u001b[0m\u001b[0m\n\u001b[1;32m    413\u001b[0m         \u001b[0;32mreturn\u001b[0m \u001b[0mrowcount\u001b[0m\u001b[0;34m\u001b[0m\u001b[0m\n",
      "\u001b[0;32m~/.pyenv/versions/anaconda3-4.2.0/lib/python3.5/site-packages/MySQLdb/cursors.py\u001b[0m in \u001b[0;36m_do_query\u001b[0;34m(self, q)\u001b[0m\n\u001b[1;32m    372\u001b[0m         \u001b[0mdb\u001b[0m \u001b[0;34m=\u001b[0m \u001b[0mself\u001b[0m\u001b[0;34m.\u001b[0m\u001b[0m_get_db\u001b[0m\u001b[0;34m(\u001b[0m\u001b[0;34m)\u001b[0m\u001b[0;34m\u001b[0m\u001b[0m\n\u001b[1;32m    373\u001b[0m         \u001b[0mself\u001b[0m\u001b[0;34m.\u001b[0m\u001b[0m_last_executed\u001b[0m \u001b[0;34m=\u001b[0m \u001b[0mq\u001b[0m\u001b[0;34m\u001b[0m\u001b[0m\n\u001b[0;32m--> 374\u001b[0;31m         \u001b[0mdb\u001b[0m\u001b[0;34m.\u001b[0m\u001b[0mquery\u001b[0m\u001b[0;34m(\u001b[0m\u001b[0mq\u001b[0m\u001b[0;34m)\u001b[0m\u001b[0;34m\u001b[0m\u001b[0m\n\u001b[0m\u001b[1;32m    375\u001b[0m         \u001b[0mself\u001b[0m\u001b[0;34m.\u001b[0m\u001b[0m_do_get_result\u001b[0m\u001b[0;34m(\u001b[0m\u001b[0;34m)\u001b[0m\u001b[0;34m\u001b[0m\u001b[0m\n\u001b[1;32m    376\u001b[0m         \u001b[0;32mreturn\u001b[0m \u001b[0mself\u001b[0m\u001b[0;34m.\u001b[0m\u001b[0mrowcount\u001b[0m\u001b[0;34m\u001b[0m\u001b[0m\n",
      "\u001b[0;32m~/.pyenv/versions/anaconda3-4.2.0/lib/python3.5/site-packages/MySQLdb/connections.py\u001b[0m in \u001b[0;36mquery\u001b[0;34m(self, query)\u001b[0m\n\u001b[1;32m    290\u001b[0m             \u001b[0mself\u001b[0m\u001b[0;34m.\u001b[0m\u001b[0mread_query_result\u001b[0m\u001b[0;34m(\u001b[0m\u001b[0;34m)\u001b[0m\u001b[0;34m\u001b[0m\u001b[0m\n\u001b[1;32m    291\u001b[0m         \u001b[0;32melse\u001b[0m\u001b[0;34m:\u001b[0m\u001b[0;34m\u001b[0m\u001b[0m\n\u001b[0;32m--> 292\u001b[0;31m             \u001b[0m_mysql\u001b[0m\u001b[0;34m.\u001b[0m\u001b[0mconnection\u001b[0m\u001b[0;34m.\u001b[0m\u001b[0mquery\u001b[0m\u001b[0;34m(\u001b[0m\u001b[0mself\u001b[0m\u001b[0;34m,\u001b[0m \u001b[0mquery\u001b[0m\u001b[0;34m)\u001b[0m\u001b[0;34m\u001b[0m\u001b[0m\n\u001b[0m\u001b[1;32m    293\u001b[0m \u001b[0;34m\u001b[0m\u001b[0m\n\u001b[1;32m    294\u001b[0m     \u001b[0;32mdef\u001b[0m \u001b[0m__enter__\u001b[0m\u001b[0;34m(\u001b[0m\u001b[0mself\u001b[0m\u001b[0;34m)\u001b[0m\u001b[0;34m:\u001b[0m\u001b[0;34m\u001b[0m\u001b[0m\n",
      "\u001b[0;31mOperationalError\u001b[0m: (1030, 'Got error 168 from storage engine')"
     ]
    }
   ],
   "source": [
    "# cursor.execute(\"DROP TABLE IF EXISTS user_info\")\n",
    "\n",
    "sql = \"\"\"\n",
    "    CREATE TABLE user_info (\n",
    "        user_id BIGINT, \n",
    "        screen_name TEXT,\n",
    "        description LONGTEXT,\n",
    "        PRIMARY KEY (user_id)\n",
    "    )\"\"\"\n",
    "\n",
    "cursor.execute(sql)"
   ]
  },
  {
   "cell_type": "code",
   "execution_count": null,
   "metadata": {},
   "outputs": [],
   "source": []
  }
 ],
 "metadata": {
  "kernelspec": {
   "display_name": "Python [default]",
   "language": "python",
   "name": "python3"
  },
  "language_info": {
   "codemirror_mode": {
    "name": "ipython",
    "version": 3
   },
   "file_extension": ".py",
   "mimetype": "text/x-python",
   "name": "python",
   "nbconvert_exporter": "python",
   "pygments_lexer": "ipython3",
   "version": "3.5.4"
  }
 },
 "nbformat": 4,
 "nbformat_minor": 2
}
