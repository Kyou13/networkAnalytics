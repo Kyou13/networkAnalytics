{
 "cells": [
  {
   "cell_type": "code",
   "execution_count": 132,
   "metadata": {},
   "outputs": [],
   "source": [
    "import json\n",
    "import time\n",
    "import random\n",
    "\n",
    "import numpy as np\n",
    "from requests_oauthlib import OAuth1Session"
   ]
  },
  {
   "cell_type": "code",
   "execution_count": 2,
   "metadata": {},
   "outputs": [],
   "source": [
    "CK = 'LElwHZGEzo53rW9GAX4QMfR3Y'                             # Consumer Key\n",
    "CS = '23kDKezl93HC6vDZfFF3FxzwNoFEDzKnDWyoPDGknHIi38R2Bu'         # Consumer Secret\n",
    "AT = '980825342217629696-XX36Z2GHh61sHfQ5x3QoGST0ht8fTyj' # Access Token\n",
    "AS = 'rlwIVxOJpDXNBpwSmvfhOrvZYK4bPYQFo6vs5jgBICW7k'         # Accesss Token Secert"
   ]
  },
  {
   "cell_type": "code",
   "execution_count": 27,
   "metadata": {},
   "outputs": [],
   "source": [
    "url = 'https://api.twitter.com/1.1/followers/ids.json'\n",
    "params = {'screen_name': 'henjinmajime'}"
   ]
  },
  {
   "cell_type": "code",
   "execution_count": 133,
   "metadata": {},
   "outputs": [],
   "source": [
    "api = OAuth1Session(CK, CS, AT, AS)\n",
    "req = api.get(url, params=params)"
   ]
  },
  {
   "cell_type": "code",
   "execution_count": 134,
   "metadata": {},
   "outputs": [],
   "source": [
    "if req.status_code == 200:\n",
    "    temp1 = json.loads(req.text)"
   ]
  },
  {
   "cell_type": "code",
   "execution_count": 135,
   "metadata": {},
   "outputs": [
    {
     "data": {
      "text/plain": [
       "5000"
      ]
     },
     "execution_count": 135,
     "metadata": {},
     "output_type": "execute_result"
    }
   ],
   "source": [
    "len(temp1['ids'])"
   ]
  },
  {
   "cell_type": "code",
   "execution_count": 95,
   "metadata": {},
   "outputs": [],
   "source": [
    "params = {\n",
    "    'cursor': temp1['next_cursor']-1,\n",
    "    'screen_name': 'henjinmajime'\n",
    "}\n",
    "\n",
    "req = api.get(url, params=params)"
   ]
  },
  {
   "cell_type": "code",
   "execution_count": 96,
   "metadata": {},
   "outputs": [],
   "source": [
    "if req.status_code == 200:\n",
    "    temp2 = json.loads(req.text)"
   ]
  },
  {
   "cell_type": "code",
   "execution_count": 151,
   "metadata": {},
   "outputs": [],
   "source": [
    "ids = []\n",
    "\n",
    "cursor = -1\n",
    "screen_name = 'henjinmajime'\n",
    "\n",
    "api_path = \"https://api.twitter.com/1.1/followers/ids.json?screen_name={0}\".format(screen_name)\n",
    "\n",
    "while cursor != 0:\n",
    "    url_with_cursor = api_path + \"&cursor=\" + str(cursor)\n",
    "    req = api.get(url_with_cursor)\n",
    "    temp = json.loads(req.text)\n",
    "    \n",
    "    ids.extend(temp['ids'])\n",
    "    cursor = temp['next_cursor']\n",
    "    time.sleep(20*random.uniform(0.5,1.5))"
   ]
  },
  {
   "cell_type": "code",
   "execution_count": 159,
   "metadata": {},
   "outputs": [],
   "source": [
    "np.save('follower_ids.npy', ids)"
   ]
  },
  {
   "cell_type": "code",
   "execution_count": 160,
   "metadata": {},
   "outputs": [
    {
     "data": {
      "text/plain": [
       "23097"
      ]
     },
     "execution_count": 160,
     "metadata": {},
     "output_type": "execute_result"
    }
   ],
   "source": [
    "len(ids)"
   ]
  },
  {
   "cell_type": "code",
   "execution_count": null,
   "metadata": {},
   "outputs": [],
   "source": []
  }
 ],
 "metadata": {
  "kernelspec": {
   "display_name": "Python [default]",
   "language": "python",
   "name": "python3"
  },
  "language_info": {
   "codemirror_mode": {
    "name": "ipython",
    "version": 3
   },
   "file_extension": ".py",
   "mimetype": "text/x-python",
   "name": "python",
   "nbconvert_exporter": "python",
   "pygments_lexer": "ipython3",
   "version": "3.5.4"
  }
 },
 "nbformat": 4,
 "nbformat_minor": 2
}
