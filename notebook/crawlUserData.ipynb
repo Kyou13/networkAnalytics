{
 "cells": [
  {
   "cell_type": "markdown",
   "metadata": {},
   "source": [
    "# 目次\n",
    "1. フォロワーの取得\n",
    "- idからユーザー情報を取得\n",
    "- フォローリストの取得"
   ]
  },
  {
   "cell_type": "markdown",
   "metadata": {},
   "source": [
    "## フォロワーの取得"
   ]
  },
  {
   "cell_type": "code",
   "execution_count": 1,
   "metadata": {
    "collapsed": true
   },
   "outputs": [],
   "source": [
    "import json\n",
    "import time\n",
    "import random\n",
    "\n",
    "import numpy as np\n",
    "import pandas as pd\n",
    "from requests_oauthlib import OAuth1Session"
   ]
  },
  {
   "cell_type": "code",
   "execution_count": 5,
   "metadata": {
    "collapsed": true
   },
   "outputs": [],
   "source": [
    "# APIの取得\n",
    "def getAPI():\n",
    "    # キー取得\n",
    "    with open('../data/key.json') as f:\n",
    "        keys = json.load(f)\n",
    "    \n",
    "    # 環境変数から承認情報を取得\n",
    "    CONSUMER_KEY    = keys['CONSUMER_KEY']\n",
    "    CONSUMER_SECRET = keys['CONSUMER_SECRET']\n",
    "    ACCESS_TOKEN    = keys['ACCESS_TOKEN']\n",
    "    ACCESS_SECRET   = keys['ACCESS_SECRET']\n",
    "    api = OAuth1Session(CONSUMER_KEY, CONSUMER_SECRET, ACCESS_TOKEN, ACCESS_SECRET)\n",
    "    return api"
   ]
  },
  {
   "cell_type": "code",
   "execution_count": 23,
   "metadata": {},
   "outputs": [],
   "source": [
    "# 特定ユーザーフォロワーidリストを取得\n",
    "def getFollowerIds(api, screen_name):\n",
    "    ids = []\n",
    "    cursor = -1\n",
    "    \n",
    "    url = 'https://api.twitter.com/1.1/followers/ids.json'\n",
    "    params = {'screen_name': screen_name}\n",
    "    req = api.get(url, params=params)\n",
    "    \n",
    "    \n",
    "    if req.status_code == 200:\n",
    "        while cursor != 0:\n",
    "            params['cursor'] = str(cursor)\n",
    "            temp = json.loads(req.text)\n",
    "\n",
    "            ids.extend(temp['ids'])\n",
    "            print(len(temp['ids']))\n",
    "            \n",
    "            print(\"ids[-1]:{}\".format(ids[-1]))\n",
    "            cursor = temp['next_cursor']\n",
    "            print(\"cursor:{}\".format(cursor))\n",
    "            time.sleep(10*random.uniform(0.5,1.5))\n",
    "            params = {'screen_name': screen_name,'cursor':cursor}\n",
    "            req = api.get(url, params=params)\n",
    "            \n",
    "    else:\n",
    "        print (\"Error: %d at getFollowerIds\" % req.status_code)\n",
    "    return ids"
   ]
  },
  {
   "cell_type": "code",
   "execution_count": 24,
   "metadata": {},
   "outputs": [
    {
     "name": "stdout",
     "output_type": "stream",
     "text": [
      "5000\n",
      "ids[-1]:2274411320\n",
      "cursor:1596258388578586144\n",
      "5000\n",
      "ids[-1]:937188233544212480\n",
      "cursor:1591762575901258273\n",
      "5000\n",
      "ids[-1]:924342342663921664\n",
      "cursor:1585206745275544247\n",
      "5000\n",
      "ids[-1]:917162648168415234\n",
      "cursor:1580732814817877143\n",
      "4319\n",
      "ids[-1]:200719204\n",
      "cursor:0\n"
     ]
    },
    {
     "data": {
      "text/plain": [
       "24319"
      ]
     },
     "execution_count": 24,
     "metadata": {},
     "output_type": "execute_result"
    }
   ],
   "source": [
    "api = getAPI()\n",
    "\n",
    "ids = getFollowerIds(api, screen_name='henjinmajime')\n",
    "len(ids)"
   ]
  },
  {
   "cell_type": "markdown",
   "metadata": {},
   "source": [
    "## idからユーザー情報を取得\n",
    "- 取得情報  \n",
    "user_id/screen_name/num_friend/num_follower/self_description"
   ]
  },
  {
   "cell_type": "code",
   "execution_count": 8,
   "metadata": {
    "collapsed": true
   },
   "outputs": [],
   "source": [
    "# idから上記の情報を取得\n",
    "def getUserInfo(api, ids):\n",
    "    url = 'https://api.twitter.com/1.1/users/lookup.json'\n",
    "    ids = np.array(ids).astype(str)\n",
    "    user_info = []\n",
    "    \n",
    "    for i in range(0, len(ids), 100):\n",
    "        _ids = ','.join(ids[i:i+100])\n",
    "        \n",
    "        params = {'user_id': _ids}\n",
    "        \n",
    "        req = api.get(url, params=params)\n",
    "        if req.status_code == 200:\n",
    "            req_text = json.loads(req.text)\n",
    "            user_info.extend([[user['id'], user['screen_name'], user['friends_count'], user['followers_count'], user['description']] for user in req_text])\n",
    "        else:\n",
    "            print (\"Error: %d at getUserInfo()\" % req.status_code)\n",
    "        time.sleep(10*random.uniform(0.5,1.5))\n",
    "    return user_info"
   ]
  },
  {
   "cell_type": "code",
   "execution_count": null,
   "metadata": {
    "collapsed": true
   },
   "outputs": [],
   "source": [
    "user_info = getUserInfo(api, ids)"
   ]
  },
  {
   "cell_type": "code",
   "execution_count": null,
   "metadata": {
    "collapsed": true
   },
   "outputs": [],
   "source": [
    "df = pd.DataFrame(user_info, columns=['user_id', 'screen_name', 'num_friends', 'num_followers', 'self_description'])"
   ]
  },
  {
   "cell_type": "code",
   "execution_count": null,
   "metadata": {
    "collapsed": true
   },
   "outputs": [],
   "source": [
    "df.to_csv('./data/user_info.csv', index=False)"
   ]
  },
  {
   "cell_type": "code",
   "execution_count": null,
   "metadata": {
    "collapsed": true
   },
   "outputs": [],
   "source": [
    "# csv出力する\n",
    "df = pd.read_csv('./data/user_info.csv')"
   ]
  },
  {
   "cell_type": "code",
   "execution_count": null,
   "metadata": {
    "collapsed": true
   },
   "outputs": [],
   "source": [
    "df"
   ]
  },
  {
   "cell_type": "markdown",
   "metadata": {},
   "source": [
    "## フォローリストの取得"
   ]
  },
  {
   "cell_type": "code",
   "execution_count": 9,
   "metadata": {
    "collapsed": true
   },
   "outputs": [],
   "source": [
    "# 特定ユーザーフォローidリストを取得\n",
    "def getFriendIds(api, user_id):\n",
    "    ids = []\n",
    "    cursor = -1\n",
    "    \n",
    "    url = 'https://api.twitter.com/1.1/friends/ids.json'\n",
    "    params = {'user_id': user_id}\n",
    "    req = api.get(url, params=params)\n",
    "    \n",
    "    if req.status_code == 200:\n",
    "        while cursor != 0:\n",
    "            params['cursor'] = str(cursor)\n",
    "            temp = json.loads(req.text)\n",
    "\n",
    "            ids.extend(temp['ids'])\n",
    "            cursor = temp['next_cursor']\n",
    "            time.sleep(10*random.uniform(0.5,1.5))\n",
    "    else:\n",
    "        print (\"Error: %d at getFollowerIds\" % req.status_code)\n",
    "    return ids"
   ]
  },
  {
   "cell_type": "code",
   "execution_count": null,
   "metadata": {
    "collapsed": true
   },
   "outputs": [],
   "source": [
    "import psycopg2\n",
    "class psql_save():\n",
    "    def initial_section():\n",
    "        self.conn = psycopg2.connect(\n",
    "        host=\"localhost\",\n",
    "        database=\"twitter_analytics\",\n",
    "        port=\"5432\",\n",
    "        user=\"kyohei\",\n",
    "        password=\"password\"\n",
    "        )\n",
    "        self.cursor = self.conn.cursor()\n",
    "        self.cursor.execute('''\n",
    "                CREATE TABLE IF NOT EXISTS followers (\n",
    "                id INT,\n",
    "                screen_name TEXT,\n",
    "                num_friends INT,\n",
    "                num_followers INT,\n",
    "                self_discription TEXT,\n",
    "                PRIMARY KEY(id)\n",
    "                )\n",
    "            ''')\n",
    "        self.conn.commit()\n",
    "\n",
    "    def process_section(item):\n",
    "        self.cursor.execute('''\n",
    "              INSERT INTO followers VALUES (%d, %s, %d, %d, %s)''',\n",
    "               (item['title'],\n",
    "                item['url'],\n",
    "                item['date'],\n",
    "                item['address'],\n",
    "                item['img_url']\n",
    "                ))\n",
    "        self.conn.commit()\n",
    "\n"
   ]
  },
  {
   "cell_type": "code",
   "execution_count": null,
   "metadata": {
    "collapsed": true
   },
   "outputs": [],
   "source": []
  },
  {
   "cell_type": "code",
   "execution_count": null,
   "metadata": {
    "collapsed": true
   },
   "outputs": [],
   "source": []
  },
  {
   "cell_type": "code",
   "execution_count": null,
   "metadata": {
    "collapsed": true
   },
   "outputs": [],
   "source": []
  },
  {
   "cell_type": "code",
   "execution_count": null,
   "metadata": {
    "collapsed": true
   },
   "outputs": [],
   "source": []
  }
 ],
 "metadata": {
  "kernelspec": {
   "display_name": "Python 3",
   "language": "python",
   "name": "python3"
  },
  "language_info": {
   "codemirror_mode": {
    "name": "ipython",
    "version": 3
   },
   "file_extension": ".py",
   "mimetype": "text/x-python",
   "name": "python",
   "nbconvert_exporter": "python",
   "pygments_lexer": "ipython3",
   "version": "3.5.3"
  }
 },
 "nbformat": 4,
 "nbformat_minor": 2
}
