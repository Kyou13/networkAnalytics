{
 "cells": [
  {
   "cell_type": "markdown",
   "metadata": {},
   "source": [
    "# 目次\n",
    "1. フォロワーの取得\n",
    "- idからユーザー情報を取得\n",
    "- フォローリストの取得"
   ]
  },
  {
   "cell_type": "markdown",
   "metadata": {},
   "source": [
    "## フォロワーの取得"
   ]
  },
  {
   "cell_type": "code",
   "execution_count": 1,
   "metadata": {},
   "outputs": [],
   "source": [
    "import json\n",
    "import time\n",
    "import random\n",
    "\n",
    "import numpy as np\n",
    "import pandas as pd\n",
    "from requests_oauthlib import OAuth1Session"
   ]
  },
  {
   "cell_type": "code",
   "execution_count": 5,
   "metadata": {},
   "outputs": [],
   "source": [
    "# APIの取得\n",
    "def getAPI():\n",
    "    # キー取得\n",
    "    with open('../data/key.json') as f:\n",
    "        keys = json.load(f)\n",
    "    # 環境変数から承認情報を取得\n",
    "    CONSUMER_KEY    = keys['CONSUMER_KEY']\n",
    "    CONSUMER_SECRET = keys['CONSUMER_SECRET']\n",
    "    ACCESS_TOKEN    = keys['ACCESS_TOKEN']\n",
    "    ACCESS_SECRET   = keys['ACCESS_SECRET']\n",
    "    api = OAuth1Session(CONSUMER_KEY, CONSUMER_SECRET, ACCESS_TOKEN, ACCESS_SECRET)\n",
    "    return api"
   ]
  },
  {
   "cell_type": "code",
   "execution_count": 6,
   "metadata": {},
   "outputs": [],
   "source": [
    "# 特定ユーザーフォロワーidリストを取得\n",
    "def getFollowerIds(api, screen_name):\n",
    "    ids = []\n",
    "    cursor = -1\n",
    "    \n",
    "    url = 'https://api.twitter.com/1.1/followers/ids.json'\n",
    "    params = {'screen_name': screen_name}\n",
    "    req = api.get(url, params=params)\n",
    "    \n",
    "    if req.status_code == 200:\n",
    "        while cursor != 0:\n",
    "            params['cursor'] = str(cursor)\n",
    "            temp = json.loads(req.text)\n",
    "\n",
    "            ids.extend(temp['ids'])\n",
    "            cursor = temp['next_cursor']\n",
    "            time.sleep(10*random.uniform(0.5,1.5))\n",
    "    else:\n",
    "        print (\"Error: %d at getFollowerIds\" % req.status_code)\n",
    "    return ids"
   ]
  },
  {
   "cell_type": "code",
   "execution_count": 7,
   "metadata": {},
   "outputs": [
    {
     "ename": "KeyboardInterrupt",
     "evalue": "",
     "output_type": "error",
     "traceback": [
      "\u001b[0;31m---------------------------------------------------------------------------\u001b[0m",
      "\u001b[0;31mKeyboardInterrupt\u001b[0m                         Traceback (most recent call last)",
      "\u001b[0;32m<ipython-input-7-e658b181eea1>\u001b[0m in \u001b[0;36m<module>\u001b[0;34m()\u001b[0m\n\u001b[1;32m      1\u001b[0m \u001b[0mapi\u001b[0m \u001b[0;34m=\u001b[0m \u001b[0mgetAPI\u001b[0m\u001b[0;34m(\u001b[0m\u001b[0;34m)\u001b[0m\u001b[0;34m\u001b[0m\u001b[0m\n\u001b[1;32m      2\u001b[0m \u001b[0;34m\u001b[0m\u001b[0m\n\u001b[0;32m----> 3\u001b[0;31m \u001b[0mids\u001b[0m \u001b[0;34m=\u001b[0m \u001b[0mgetFollowerIds\u001b[0m\u001b[0;34m(\u001b[0m\u001b[0mapi\u001b[0m\u001b[0;34m,\u001b[0m \u001b[0mscreen_name\u001b[0m\u001b[0;34m=\u001b[0m\u001b[0;34m'henjinmajime'\u001b[0m\u001b[0;34m)\u001b[0m\u001b[0;34m\u001b[0m\u001b[0m\n\u001b[0m\u001b[1;32m      4\u001b[0m \u001b[0mlen\u001b[0m\u001b[0;34m(\u001b[0m\u001b[0mids\u001b[0m\u001b[0;34m)\u001b[0m\u001b[0;34m\u001b[0m\u001b[0m\n",
      "\u001b[0;32m<ipython-input-6-6b9c72bdca84>\u001b[0m in \u001b[0;36mgetFollowerIds\u001b[0;34m(api, screen_name)\u001b[0m\n\u001b[1;32m     15\u001b[0m             \u001b[0mids\u001b[0m\u001b[0;34m.\u001b[0m\u001b[0mextend\u001b[0m\u001b[0;34m(\u001b[0m\u001b[0mtemp\u001b[0m\u001b[0;34m[\u001b[0m\u001b[0;34m'ids'\u001b[0m\u001b[0;34m]\u001b[0m\u001b[0;34m)\u001b[0m\u001b[0;34m\u001b[0m\u001b[0m\n\u001b[1;32m     16\u001b[0m             \u001b[0mcursor\u001b[0m \u001b[0;34m=\u001b[0m \u001b[0mtemp\u001b[0m\u001b[0;34m[\u001b[0m\u001b[0;34m'next_cursor'\u001b[0m\u001b[0;34m]\u001b[0m\u001b[0;34m\u001b[0m\u001b[0m\n\u001b[0;32m---> 17\u001b[0;31m             \u001b[0mtime\u001b[0m\u001b[0;34m.\u001b[0m\u001b[0msleep\u001b[0m\u001b[0;34m(\u001b[0m\u001b[0;36m10\u001b[0m\u001b[0;34m*\u001b[0m\u001b[0mrandom\u001b[0m\u001b[0;34m.\u001b[0m\u001b[0muniform\u001b[0m\u001b[0;34m(\u001b[0m\u001b[0;36m0.5\u001b[0m\u001b[0;34m,\u001b[0m\u001b[0;36m1.5\u001b[0m\u001b[0;34m)\u001b[0m\u001b[0;34m)\u001b[0m\u001b[0;34m\u001b[0m\u001b[0m\n\u001b[0m\u001b[1;32m     18\u001b[0m     \u001b[0;32melse\u001b[0m\u001b[0;34m:\u001b[0m\u001b[0;34m\u001b[0m\u001b[0m\n\u001b[1;32m     19\u001b[0m         \u001b[0mprint\u001b[0m \u001b[0;34m(\u001b[0m\u001b[0;34m\"Error: %d at getFollowerIds\"\u001b[0m \u001b[0;34m%\u001b[0m \u001b[0mreq\u001b[0m\u001b[0;34m.\u001b[0m\u001b[0mstatus_code\u001b[0m\u001b[0;34m)\u001b[0m\u001b[0;34m\u001b[0m\u001b[0m\n",
      "\u001b[0;31mKeyboardInterrupt\u001b[0m: "
     ]
    }
   ],
   "source": [
    "api = getAPI()\n",
    "\n",
    "ids = getFollowerIds(api, screen_name='henjinmajime')\n",
    "len(ids)"
   ]
  },
  {
   "cell_type": "markdown",
   "metadata": {},
   "source": [
    "## idからユーザー情報を取得\n",
    "- 取得情報  \n",
    "user_id/screen_name/num_friend/num_follower/self_description"
   ]
  },
  {
   "cell_type": "code",
   "execution_count": 8,
   "metadata": {},
   "outputs": [],
   "source": [
    "# idから上記の情報を取得\n",
    "def getUserInfo(api, ids):\n",
    "    url = 'https://api.twitter.com/1.1/users/lookup.json'\n",
    "    ids = np.array(ids).astype(str)\n",
    "    user_info = []\n",
    "    \n",
    "    for i in range(0, len(ids), 100):\n",
    "        _ids = ','.join(ids[i:i+100])\n",
    "        \n",
    "        params = {'user_id': _ids}\n",
    "        \n",
    "        req = api.get(url, params=params)\n",
    "        if req.status_code == 200:\n",
    "            req_text = json.loads(req.text)\n",
    "            user_info.extend([[user['id'], user['screen_name'], user['friends_count'], user['followers_count'], user['description']] for user in req_text])\n",
    "        else:\n",
    "            print (\"Error: %d at getUserInfo()\" % req.status_code)\n",
    "        time.sleep(10*random.uniform(0.5,1.5))\n",
    "    return user_info"
   ]
  },
  {
   "cell_type": "code",
   "execution_count": null,
   "metadata": {},
   "outputs": [],
   "source": [
    "user_info = getUserInfo(api, ids)"
   ]
  },
  {
   "cell_type": "code",
   "execution_count": null,
   "metadata": {},
   "outputs": [],
   "source": [
    "df = pd.DataFrame(user_info, columns=['user_id', 'screen_name', 'num_friends', 'num_followers', 'self_description'])"
   ]
  },
  {
   "cell_type": "code",
   "execution_count": null,
   "metadata": {},
   "outputs": [],
   "source": [
    "df.to_csv('./data/user_info.csv', index=False)"
   ]
  },
  {
   "cell_type": "code",
   "execution_count": null,
   "metadata": {},
   "outputs": [],
   "source": [
    "# csv出力する\n",
    "df = pd.read_csv('./data/user_info.csv')"
   ]
  },
  {
   "cell_type": "code",
   "execution_count": null,
   "metadata": {},
   "outputs": [],
   "source": [
    "df"
   ]
  },
  {
   "cell_type": "markdown",
   "metadata": {},
   "source": [
    "## フォローリストの取得"
   ]
  },
  {
   "cell_type": "code",
   "execution_count": 9,
   "metadata": {},
   "outputs": [],
   "source": [
    "# 特定ユーザーフォローidリストを取得\n",
    "def getFriendIds(api, user_id):\n",
    "    ids = []\n",
    "    cursor = -1\n",
    "    \n",
    "    url = 'https://api.twitter.com/1.1/friends/ids.json'\n",
    "    params = {'user_id': user_id}\n",
    "    req = api.get(url, params=params)\n",
    "    \n",
    "    if req.status_code == 200:\n",
    "        while cursor != 0:\n",
    "            params['cursor'] = str(cursor)\n",
    "            temp = json.loads(req.text)\n",
    "\n",
    "            ids.extend(temp['ids'])\n",
    "            cursor = temp['next_cursor']\n",
    "            time.sleep(10*random.uniform(0.5,1.5))\n",
    "    else:\n",
    "        print (\"Error: %d at getFollowerIds\" % req.status_code)\n",
    "    return ids"
   ]
  },
  {
   "cell_type": "code",
   "execution_count": null,
   "metadata": {},
   "outputs": [],
   "source": []
  },
  {
   "cell_type": "code",
   "execution_count": null,
   "metadata": {},
   "outputs": [],
   "source": []
  },
  {
   "cell_type": "code",
   "execution_count": null,
   "metadata": {},
   "outputs": [],
   "source": []
  },
  {
   "cell_type": "code",
   "execution_count": null,
   "metadata": {},
   "outputs": [],
   "source": []
  }
 ],
 "metadata": {
  "kernelspec": {
   "display_name": "Python [default]",
   "language": "python",
   "name": "python3"
  },
  "language_info": {
   "codemirror_mode": {
    "name": "ipython",
    "version": 3
   },
   "file_extension": ".py",
   "mimetype": "text/x-python",
   "name": "python",
   "nbconvert_exporter": "python",
   "pygments_lexer": "ipython3",
   "version": "3.5.4"
  }
 },
 "nbformat": 4,
 "nbformat_minor": 2
}
